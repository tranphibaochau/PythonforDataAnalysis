{
 "cells": [
  {
   "cell_type": "code",
   "execution_count": 78,
   "metadata": {
    "collapsed": true
   },
   "outputs": [],
   "source": [
    "import numpy as np\n",
    "import pandas as pd\n",
    "import matplotlib.pyplot as plt\n"
   ]
  },
  {
   "cell_type": "code",
   "execution_count": 2,
   "metadata": {},
   "outputs": [
    {
     "data": {
      "text/plain": [
       "array([6, 8, 2, 4])"
      ]
     },
     "execution_count": 2,
     "metadata": {},
     "output_type": "execute_result"
    }
   ],
   "source": [
    "#create 1 dimensional array\n",
    "data1 = [6, 8, 2, 4]\n",
    "arr1 = np.array(data1)\n",
    "arr1\n"
   ]
  },
  {
   "cell_type": "code",
   "execution_count": 3,
   "metadata": {},
   "outputs": [
    {
     "data": {
      "text/plain": [
       "array([[2, 3, 4],\n       [5, 6, 1]])"
      ]
     },
     "execution_count": 3,
     "metadata": {},
     "output_type": "execute_result"
    }
   ],
   "source": [
    "#create 2-dimensional array\n",
    "data2 = [[2,3,4],[5,6,1]]\n",
    "arr2 = np.array(data2)\n",
    "arr2"
   ]
  },
  {
   "cell_type": "code",
   "execution_count": 4,
   "metadata": {},
   "outputs": [
    {
     "data": {
      "text/plain": [
       "2"
      ]
     },
     "execution_count": 4,
     "metadata": {},
     "output_type": "execute_result"
    }
   ],
   "source": [
    "#dimensions\n",
    "arr2.ndim"
   ]
  },
  {
   "cell_type": "code",
   "execution_count": 5,
   "metadata": {},
   "outputs": [
    {
     "data": {
      "text/plain": [
       "(2, 3)"
      ]
     },
     "execution_count": 5,
     "metadata": {},
     "output_type": "execute_result"
    }
   ],
   "source": [
    "#shape\n",
    "arr2.shape"
   ]
  },
  {
   "cell_type": "code",
   "execution_count": 6,
   "metadata": {},
   "outputs": [
    {
     "data": {
      "text/plain": [
       "dtype('int32')"
      ]
     },
     "execution_count": 6,
     "metadata": {},
     "output_type": "execute_result"
    }
   ],
   "source": [
    "#dtype\n",
    "arr1.dtype"
   ]
  },
  {
   "cell_type": "code",
   "execution_count": 7,
   "metadata": {},
   "outputs": [
    {
     "data": {
      "text/plain": [
       "array([[ 0.,  0.,  0.,  0.],\n       [ 0.,  0.,  0.,  0.],\n       [ 0.,  0.,  0.,  0.]])"
      ]
     },
     "execution_count": 7,
     "metadata": {},
     "output_type": "execute_result"
    }
   ],
   "source": [
    "#create array of zeros (you can parse length or shape of array as argument)\n",
    "arr3 = np.zeros((3, 4))\n",
    "arr3"
   ]
  },
  {
   "cell_type": "code",
   "execution_count": 8,
   "metadata": {},
   "outputs": [
    {
     "data": {
      "text/plain": [
       "array([[5, 5, 5],\n       [5, 5, 5]])"
      ]
     },
     "execution_count": 8,
     "metadata": {},
     "output_type": "execute_result"
    }
   ],
   "source": [
    "#fill the whole array with certain value\n",
    "arr4 = np.full((2,3), 5)\n",
    "arr4"
   ]
  },
  {
   "cell_type": "code",
   "execution_count": 9,
   "metadata": {},
   "outputs": [
    {
     "data": {
      "text/plain": [
       "dtype('float64')"
      ]
     },
     "execution_count": 9,
     "metadata": {},
     "output_type": "execute_result"
    }
   ],
   "source": [
    "#specify dtype\n",
    "arr5 = np.array([1, 3,  4], dtype = np.float64)\n",
    "arr5.dtype"
   ]
  },
  {
   "cell_type": "code",
   "execution_count": 10,
   "metadata": {},
   "outputs": [
    {
     "data": {
      "text/plain": [
       "array([0, 1, 2, 3, 4, 5, 6, 7, 8, 9])"
      ]
     },
     "execution_count": 10,
     "metadata": {},
     "output_type": "execute_result"
    }
   ],
   "source": [
    "#array indexing and slicing\n",
    "arr1 = np.arange(10)\n",
    "arr1"
   ]
  },
  {
   "cell_type": "code",
   "execution_count": 11,
   "metadata": {},
   "outputs": [
    {
     "data": {
      "text/plain": [
       "4"
      ]
     },
     "execution_count": 11,
     "metadata": {},
     "output_type": "execute_result"
    }
   ],
   "source": [
    "arr1[4]"
   ]
  },
  {
   "cell_type": "code",
   "execution_count": 12,
   "metadata": {},
   "outputs": [
    {
     "data": {
      "text/plain": [
       "array([2, 3])"
      ]
     },
     "execution_count": 12,
     "metadata": {},
     "output_type": "execute_result"
    }
   ],
   "source": [
    "arr1[2:4]"
   ]
  },
  {
   "cell_type": "code",
   "execution_count": 13,
   "metadata": {},
   "outputs": [
    {
     "data": {
      "text/plain": [
       "array([], dtype=int32)"
      ]
     },
     "execution_count": 13,
     "metadata": {},
     "output_type": "execute_result"
    }
   ],
   "source": [
    "#elements with minus sign means start counting from the last element\n",
    "#if a[i, j] and i > j then a[i, j] = []\n",
    "arr1[3:-7]"
   ]
  },
  {
   "cell_type": "code",
   "execution_count": 14,
   "metadata": {},
   "outputs": [
    {
     "data": {
      "text/plain": [
       "array([4, 5, 6, 7, 8, 9])"
      ]
     },
     "execution_count": 14,
     "metadata": {},
     "output_type": "execute_result"
    }
   ],
   "source": [
    "#omitted fields means start from the beginning or stop at the end of the array\n",
    "arr1[4:]"
   ]
  },
  {
   "cell_type": "code",
   "execution_count": 15,
   "metadata": {},
   "outputs": [
    {
     "data": {
      "text/plain": [
       "array([0, 1, 2, 3, 4])"
      ]
     },
     "execution_count": 15,
     "metadata": {},
     "output_type": "execute_result"
    }
   ],
   "source": [
    "arr1[:5]"
   ]
  },
  {
   "cell_type": "code",
   "execution_count": 16,
   "metadata": {},
   "outputs": [
    {
     "data": {
      "text/plain": [
       "array([[[ 2,  4],\n        [ 1,  3],\n        [ 8,  5]],\n\n       [[ 3, 10],\n        [21, 45],\n        [ 9,  9]]])"
      ]
     },
     "execution_count": 16,
     "metadata": {},
     "output_type": "execute_result"
    }
   ],
   "source": [
    "#In multidimensional array, if you omit later indices, the returned object will be a low dimensional ndarray consiting\n",
    "#all elements along higher indices\n",
    "array3d = np.array([[[2, 4], [1, 3], [8, 5]], [[3, 10], [21, 45], [9, 9]]])\n",
    "array3d"
   ]
  },
  {
   "cell_type": "code",
   "execution_count": 17,
   "metadata": {},
   "outputs": [
    {
     "data": {
      "text/plain": [
       "array([[2, 4],\n       [1, 3],\n       [8, 5]])"
      ]
     },
     "execution_count": 17,
     "metadata": {},
     "output_type": "execute_result"
    }
   ],
   "source": [
    "array3d[0]"
   ]
  },
  {
   "cell_type": "code",
   "execution_count": 18,
   "metadata": {},
   "outputs": [
    {
     "data": {
      "text/plain": [
       "array([21, 45])"
      ]
     },
     "execution_count": 18,
     "metadata": {},
     "output_type": "execute_result"
    }
   ],
   "source": [
    "array3d[1][1]"
   ]
  },
  {
   "cell_type": "code",
   "execution_count": 19,
   "metadata": {},
   "outputs": [
    {
     "data": {
      "text/plain": [
       "21"
      ]
     },
     "execution_count": 19,
     "metadata": {},
     "output_type": "execute_result"
    }
   ],
   "source": [
    "array3d[1][1][0]"
   ]
  },
  {
   "cell_type": "code",
   "execution_count": 20,
   "metadata": {},
   "outputs": [
    {
     "data": {
      "text/plain": [
       "array([[[ 1,  1],\n        [ 1,  1],\n        [ 1,  1]],\n\n       [[ 3, 10],\n        [21, 45],\n        [ 9,  9]]])"
      ]
     },
     "execution_count": 20,
     "metadata": {},
     "output_type": "execute_result"
    }
   ],
   "source": [
    "#when you assign a number to one dimension of the array, all elements in that dimension will be equal to the given number\n",
    "#in the other word, both scalar value and array can be assigned to one dimension of the array\n",
    "\n",
    "oldvalues = array3d[0].copy()\n",
    "array3d[0] = 1\n",
    "array3d"
   ]
  },
  {
   "cell_type": "code",
   "execution_count": 21,
   "metadata": {},
   "outputs": [
    {
     "data": {
      "text/plain": [
       "array([[[ 2,  4],\n        [ 1,  3],\n        [ 8,  5]],\n\n       [[ 3, 10],\n        [21, 45],\n        [ 9,  9]]])"
      ]
     },
     "execution_count": 21,
     "metadata": {},
     "output_type": "execute_result"
    }
   ],
   "source": [
    "array3d[0] = oldvalues\n",
    "array3d"
   ]
  },
  {
   "cell_type": "code",
   "execution_count": 23,
   "metadata": {},
   "outputs": [
    {
     "data": {
      "text/plain": [
       "array([[[2, 4],\n        [1, 1],\n        [8, 5]],\n\n       [[1, 1],\n        [1, 1],\n        [1, 1]]])"
      ]
     },
     "execution_count": 23,
     "metadata": {},
     "output_type": "execute_result"
    }
   ],
   "source": [
    "array3d[0][1] = 1\n",
    "array3d"
   ]
  },
  {
   "cell_type": "code",
   "execution_count": 24,
   "metadata": {},
   "outputs": [
    {
     "data": {
      "text/plain": [
       "array([1, 1])"
      ]
     },
     "execution_count": 24,
     "metadata": {},
     "output_type": "execute_result"
    }
   ],
   "source": [
    "#you can locate cells/dimension using below syntax\n",
    "array3d[1, 0]"
   ]
  },
  {
   "cell_type": "code",
   "execution_count": 26,
   "metadata": {},
   "outputs": [
    {
     "data": {
      "text/plain": [
       "array([[[2, 4],\n        [1, 1],\n        [8, 5]]])"
      ]
     },
     "execution_count": 26,
     "metadata": {},
     "output_type": "execute_result"
    }
   ],
   "source": [
    "#slicing in multidimensional array goes starts from the first bracket\n",
    "array3d[:1]"
   ]
  },
  {
   "cell_type": "code",
   "execution_count": 30,
   "metadata": {},
   "outputs": [
    {
     "data": {
      "text/plain": [
       "array([[[2, 4],\n        [1, 1]]])"
      ]
     },
     "execution_count": 30,
     "metadata": {},
     "output_type": "execute_result"
    }
   ],
   "source": [
    "#you can pass multiple slices just like multiple indexes\n",
    "array3d[:1, :2]"
   ]
  },
  {
   "cell_type": "code",
   "execution_count": 32,
   "metadata": {},
   "outputs": [
    {
     "data": {
      "text/plain": [
       "array([[[2, 4],\n        [1, 1],\n        [8, 5]]])"
      ]
     },
     "execution_count": 32,
     "metadata": {},
     "output_type": "execute_result"
    }
   ],
   "source": [
    "#but not like this\n",
    "array3d[:1][:1]"
   ]
  },
  {
   "cell_type": "code",
   "execution_count": 35,
   "metadata": {},
   "outputs": [
    {
     "data": {
      "text/plain": [
       "array(['Bob', 'Zoey', 'Kazi', 'Bob', 'Tyson', 'West', 'West'],\n      dtype='<U5')"
      ]
     },
     "execution_count": 35,
     "metadata": {},
     "output_type": "execute_result"
    }
   ],
   "source": [
    "name = np.array(['Bob', 'Zoey', 'Kazi', 'Bob', 'Tyson', 'West', 'West'])\n",
    "data = np.random.randn(7, 4)\n",
    "name\n"
   ]
  },
  {
   "cell_type": "code",
   "execution_count": 36,
   "metadata": {},
   "outputs": [
    {
     "data": {
      "text/plain": [
       "array([[ 0.4953815 , -0.45035555, -0.60982348, -0.23655716],\n       [ 1.66337308,  0.14942182, -0.56429456,  0.00777951],\n       [-0.14411453, -1.39749429, -0.59321881,  1.75994342],\n       [-0.84666658,  1.60129361, -1.06054227, -0.97830368],\n       [-0.24545564, -1.10831378,  0.53100579, -0.15630685],\n       [-1.38588362, -0.17672807, -1.17590726, -1.07506872],\n       [ 1.23553996,  1.35669948, -1.07252821, -0.95173691]])"
      ]
     },
     "execution_count": 36,
     "metadata": {},
     "output_type": "execute_result"
    }
   ],
   "source": [
    "data"
   ]
  },
  {
   "cell_type": "code",
   "execution_count": 39,
   "metadata": {},
   "outputs": [
    {
     "data": {
      "text/plain": [
       "array([ True, False, False,  True, False, False, False], dtype=bool)"
      ]
     },
     "execution_count": 39,
     "metadata": {},
     "output_type": "execute_result"
    }
   ],
   "source": [
    "#Comparing name with the string 'Bob' yield a boolean array\n",
    "name == 'Bob'"
   ]
  },
  {
   "cell_type": "code",
   "execution_count": 40,
   "metadata": {},
   "outputs": [
    {
     "data": {
      "text/plain": [
       "array([[ 0.4953815 , -0.45035555, -0.60982348, -0.23655716],\n       [-0.84666658,  1.60129361, -1.06054227, -0.97830368]])"
      ]
     },
     "execution_count": 40,
     "metadata": {},
     "output_type": "execute_result"
    }
   ],
   "source": [
    "#This boolean array can be passed when indexing the array\n",
    "#REMEMBER: the boolean array must have the same length as the array it's indexing\n",
    "data[name == 'Bob']"
   ]
  },
  {
   "cell_type": "code",
   "execution_count": 41,
   "metadata": {},
   "outputs": [
    {
     "data": {
      "text/plain": [
       "array([[ 1.66337308,  0.14942182, -0.56429456,  0.00777951],\n       [-0.14411453, -1.39749429, -0.59321881,  1.75994342],\n       [-0.24545564, -1.10831378,  0.53100579, -0.15630685],\n       [-1.38588362, -0.17672807, -1.17590726, -1.07506872],\n       [ 1.23553996,  1.35669948, -1.07252821, -0.95173691]])"
      ]
     },
     "execution_count": 41,
     "metadata": {},
     "output_type": "execute_result"
    }
   ],
   "source": [
    "#To select everything BUT [option], you can use != or ~\n",
    "data[~(name == 'Bob')]"
   ]
  },
  {
   "cell_type": "code",
   "execution_count": 47,
   "metadata": {
    "collapsed": true
   },
   "outputs": [
    {
     "data": {
      "text/plain": [
       "array([[ 0,  1,  2,  3],\n       [ 4,  5,  6,  7],\n       [ 8,  9, 10, 11],\n       [12, 13, 14, 15],\n       [16, 17, 18, 19],\n       [20, 21, 22, 23],\n       [24, 25, 26, 27],\n       [28, 29, 30, 31]])"
      ]
     },
     "execution_count": 47,
     "metadata": {},
     "output_type": "execute_result"
    }
   ],
   "source": [
    "arr1 = np.arange(32).reshape((8, 4))\n",
    "arr1"
   ]
  },
  {
   "cell_type": "code",
   "execution_count": 50,
   "metadata": {},
   "outputs": [
    {
     "data": {
      "text/plain": [
       "array([ 4, 23, 29, 10])"
      ]
     },
     "execution_count": 50,
     "metadata": {},
     "output_type": "execute_result"
    }
   ],
   "source": [
    "#fancy indexing\n",
    "#in this example, the elements [1, 0], [5, 3], [7, 1], [2, 2] are selected\n",
    "#regladless of how many dimensionals the array has, fancy indexing is always one-dimensional\n",
    "#fancy indexing, unlike slicing, always copies data into a new array (the original array will not be modified)\n",
    "\n",
    "arr1[[1, 5, 7, 2], [0, 3, 1, 2]]"
   ]
  },
  {
   "cell_type": "code",
   "execution_count": 51,
   "metadata": {},
   "outputs": [
    {
     "data": {
      "text/plain": [
       "array([[ 0,  4,  8, 12, 16, 20, 24, 28],\n       [ 1,  5,  9, 13, 17, 21, 25, 29],\n       [ 2,  6, 10, 14, 18, 22, 26, 30],\n       [ 3,  7, 11, 15, 19, 23, 27, 31]])"
      ]
     },
     "execution_count": 51,
     "metadata": {},
     "output_type": "execute_result"
    }
   ],
   "source": [
    "#array transposing\n",
    "arr1.T"
   ]
  },
  {
   "cell_type": "code",
   "execution_count": 53,
   "metadata": {},
   "outputs": [
    {
     "data": {
      "text/plain": [
       "array([[[ 0,  1,  2,  3],\n        [ 4,  5,  6,  7]],\n\n       [[ 8,  9, 10, 11],\n        [12, 13, 14, 15]]])"
      ]
     },
     "execution_count": 53,
     "metadata": {},
     "output_type": "execute_result"
    }
   ],
   "source": [
    "#for higher dimensional array, transpose will accept a tuple of axis numbers to permute the axes:\n",
    "arr = np.arange(16).reshape((2, 2, 4))\n",
    "arr"
   ]
  },
  {
   "cell_type": "code",
   "execution_count": 60,
   "metadata": {},
   "outputs": [
    {
     "data": {
      "text/plain": [
       "array([[[ 0,  1,  2,  3],\n        [ 8,  9, 10, 11]],\n\n       [[ 4,  5,  6,  7],\n        [12, 13, 14, 15]]])"
      ]
     },
     "execution_count": 60,
     "metadata": {},
     "output_type": "execute_result"
    }
   ],
   "source": [
    "#the axes has been recorded with the second axis first, the first axis second, and the last axis unchaged -> therefore the order is 1, 0, 2\n",
    "#keep in mind that transposing copies data into a new array, thus the original array is unaffected\n",
    "arr2 = arr.transpose((1, 0, 2))\n",
    "arr2"
   ]
  },
  {
   "cell_type": "code",
   "execution_count": 61,
   "metadata": {},
   "outputs": [
    {
     "data": {
      "text/plain": [
       "array([[[ 0,  4],\n        [ 1,  5],\n        [ 2,  6],\n        [ 3,  7]],\n\n       [[ 8, 12],\n        [ 9, 13],\n        [10, 14],\n        [11, 15]]])"
      ]
     },
     "execution_count": 61,
     "metadata": {},
     "output_type": "execute_result"
    }
   ],
   "source": [
    "#ndarray also has a method called swapaxes, which is more general than transposing\n",
    "arr.swapaxes(1, 2)"
   ]
  },
  {
   "cell_type": "code",
   "execution_count": 63,
   "metadata": {},
   "outputs": [
    {
     "data": {
      "text/plain": [
       "array([[[ 0.        ,  1.        ,  1.41421356,  1.73205081],\n        [ 2.        ,  2.23606798,  2.44948974,  2.64575131]],\n\n       [[ 2.82842712,  3.        ,  3.16227766,  3.31662479],\n        [ 3.46410162,  3.60555128,  3.74165739,  3.87298335]]])"
      ]
     },
     "execution_count": 63,
     "metadata": {},
     "output_type": "execute_result"
    }
   ],
   "source": [
    "#4.2 Universal functions: functions that apply element-wise operations on data in ndarrays\n",
    "#Unary functions: abs, fabs (floating point absolute), sqrt, square, exp (e^x), log, log10, log2, log1p, sign, ceil, floor, rint (round elements to the nearest integer)\n",
    "#                 modf (return fractional and integral parts of array as a seperate array, isnan(return boolean array indicating whether each value is NaN)\n",
    "#                 isfinite, isinf, cos, cosh, sin, sinh, tan, tanh, ...\n",
    "#                 logical_not (compute truth value of not x element-wise (equivalent to ~arr))\n",
    "np.sqrt(arr)\n"
   ]
  },
  {
   "cell_type": "code",
   "execution_count": 65,
   "metadata": {},
   "outputs": [
    {
     "data": {
      "text/plain": [
       "array([[[ 3,  4,  5,  6],\n        [ 7,  8,  9, 10]],\n\n       [[11, 12, 13, 14],\n        [15, 16, 17, 18]]])"
      ]
     },
     "execution_count": 65,
     "metadata": {},
     "output_type": "execute_result"
    }
   ],
   "source": [
    "#Binary functions:  add, subtract, multiply, divide, floor_divide, power, maximum, fmax (like maximum but ignore NaN), minimum, fmin, mod, copysign\n",
    "#                   greater, greater_equal, less, less_equal, equal, not_equal, logical_and, logical_or, logical_xor (perform element-wise comparison, yielding boolean array)\n",
    "np.add(arr, 3)"
   ]
  },
  {
   "cell_type": "code",
   "execution_count": 67,
   "metadata": {},
   "outputs": [
    {
     "data": {
      "text/plain": [
       "array([[1, 2, 3, 4],\n       [1, 2, 3, 4],\n       [1, 2, 3, 4],\n       [1, 2, 3, 4]])"
      ]
     },
     "execution_count": 67,
     "metadata": {},
     "output_type": "execute_result"
    }
   ],
   "source": [
    "#the practice of replacing explicit loops with array expression in data processing is called vectorization\n",
    "#vectorization is often be one or two (or more) order of magnitude faster than their pure Python equivalents\n",
    "arr1 = [1, 2, 3, 4]\n",
    "arr2 = [5, 6, 7, 8]\n",
    "arr3, arr4 = np.meshgrid(arr1, arr2)\n",
    "arr3"
   ]
  },
  {
   "cell_type": "code",
   "execution_count": 68,
   "metadata": {},
   "outputs": [
    {
     "data": {
      "text/plain": [
       "array([[5, 5, 5, 5],\n       [6, 6, 6, 6],\n       [7, 7, 7, 7],\n       [8, 8, 8, 8]])"
      ]
     },
     "execution_count": 68,
     "metadata": {},
     "output_type": "execute_result"
    }
   ],
   "source": [
    "    arr4"
   ]
  },
  {
   "cell_type": "code",
   "execution_count": 74,
   "metadata": {},
   "outputs": [
    {
     "data": {
      "text/plain": [
       "array([[ 5.09901951,  5.38516481,  5.83095189,  6.40312424],\n       [ 6.08276253,  6.32455532,  6.70820393,  7.21110255],\n       [ 7.07106781,  7.28010989,  7.61577311,  8.06225775],\n       [ 8.06225775,  8.24621125,  8.54400375,  8.94427191]])"
      ]
     },
     "execution_count": 74,
     "metadata": {},
     "output_type": "execute_result"
    }
   ],
   "source": [
    "z = np.sqrt(arr3 ** 2 + arr4 ** 2)\n",
    "z"
   ]
  },
  {
   "cell_type": "code",
   "execution_count": 82,
   "metadata": {
    "collapsed": true
   },
   "outputs": [
    {
     "data": {
      "text/plain": [
       "[1.1000000000000001, 2.2000000000000002, 1.3, 1.3999999999999999, 2.5]"
      ]
     },
     "execution_count": 82,
     "metadata": {},
     "output_type": "execute_result"
    }
   ],
   "source": [
    "#list comprehension\n",
    "xarr = np.array([1.1, 1.2, 1.3, 1.4, 1.5])\n",
    "yarr = np.array([2.1, 2.2, 2.3, 2.4, 2.5])\n",
    "cond = np.array([True, False, True, True, False])\n",
    "result = [(x if c else y) for x, y, c in zip(xarr, yarr, cond)]\n",
    "result"
   ]
  },
  {
   "cell_type": "code",
   "execution_count": 83,
   "metadata": {
    "collapsed": false
   },
   "outputs": [
    {
     "data": {
      "text/plain": [
       "array([ 1.1,  2.2,  1.3,  1.4,  2.5])"
      ]
     },
     "execution_count": 83,
     "metadata": {},
     "output_type": "execute_result"
    }
   ],
   "source": [
    "#np.where, where condition is put first\n",
    "result = np. where (cond, xarr, yarr)\n",
    "result "
   ]
  },
  {
   "cell_type": "code",
   "execution_count": 84,
   "metadata": {},
   "outputs": [
    {
     "data": {
      "text/plain": [
       "array([[-1.96507854,  0.16439871,  0.067458  ,  2.51499534],\n       [ 1.374731  , -0.67059883, -1.62022114,  1.24543769],\n       [-0.069987  ,  0.74446844,  1.47017094,  0.13550725],\n       [ 0.35968334, -1.2836328 ,  1.54941807,  0.74914887],\n       [-1.03102036,  0.76797271, -0.13233188,  1.02821217]])"
      ]
     },
     "execution_count": 84,
     "metadata": {},
     "output_type": "execute_result"
    }
   ],
   "source": [
    "# Mathematical and Statistical Methods\n",
    "arr = np.random.randn(5, 4)\n",
    "arr"
   ]
  },
  {
   "cell_type": "code",
   "execution_count": 87,
   "metadata": {},
   "outputs": [
    {
     "data": {
      "text/plain": [
       "0.26993660037920891"
      ]
     },
     "execution_count": 87,
     "metadata": {},
     "output_type": "execute_result"
    }
   ],
   "source": [
    "#calculate mean\n",
    "arr.mean()\n",
    "#alternate method: np.mean(arr)"
   ]
  },
  {
   "cell_type": "code",
   "execution_count": 91,
   "metadata": {},
   "outputs": [
    {
     "data": {
      "text/plain": [
       "array([ 0.19544338,  0.08233718,  0.57003991,  0.34365437,  0.15820816])"
      ]
     },
     "execution_count": 91,
     "metadata": {},
     "output_type": "execute_result"
    }
   ],
   "source": [
    "#you can also specify which axis you want to calculate \n",
    "#(axis = 0: calculate mean of columns, axis = 1: calculate mean of rows)\n",
    "arr.mean(axis = 1)"
   ]
  },
  {
   "cell_type": "code",
   "execution_count": 92,
   "metadata": {},
   "outputs": [
    {
     "data": {
      "text/plain": [
       "array([ 1,  3,  6, 10, 15, 21, 28, 36], dtype=int32)"
      ]
     },
     "execution_count": 92,
     "metadata": {},
     "output_type": "execute_result"
    }
   ],
   "source": [
    "#method like cumsum or cumprod do not aggregate, and instead producing an array of the intermediate result\n",
    "arr2 = np.array([1, 2, 3, 4, 5, 6, 7, 8])\n",
    "arr2.cumsum()"
   ]
  },
  {
   "cell_type": "code",
   "execution_count": 102,
   "metadata": {},
   "outputs": [
    {
     "data": {
      "text/plain": [
       "array([[-1.96507854,  0.16439871,  0.067458  ,  2.51499534],\n       [-0.59034753, -0.50620012, -1.55276314,  3.76043303],\n       [-0.66033454,  0.23826833, -0.08259219,  3.89594028],\n       [-0.30065119, -1.04536447,  1.46682588,  4.64508915],\n       [-1.33167156, -0.27739176,  1.334494  ,  5.67330132]])"
      ]
     },
     "execution_count": 102,
     "metadata": {},
     "output_type": "execute_result"
    }
   ],
   "source": [
    "#same with sum or mean, you can choose to specify certain axis in multidimensional array\n",
    "#axis = 0: plus along the column axis; axis = 1: plus along the row axis\n",
    "arr.cumsum(axis = 0)"
   ]
  },
  {
   "cell_type": "code",
   "execution_count": 103,
   "metadata": {},
   "outputs": [
    {
     "data": {
      "text/plain": [
       "55"
      ]
     },
     "execution_count": 103,
     "metadata": {},
     "output_type": "execute_result"
    }
   ],
   "source": [
    "#boolean values are coerced to 1 (True) and 0 (False) in the preceding methods. Thus, sum is often use as a mean of counting True values in a boolean arrays\n",
    "arr = np.random.randn(100)\n",
    "(arr > 0).sum()"
   ]
  },
  {
   "cell_type": "code",
   "execution_count": 106,
   "metadata": {},
   "outputs": [
    {
     "data": {
      "text/plain": [
       "True"
      ]
     },
     "execution_count": 106,
     "metadata": {},
     "output_type": "execute_result"
    }
   ],
   "source": [
    "# .any() checks if one or more values in an array is True, .all() checks if all of them are True\n",
    "(arr >0).any()"
   ]
  },
  {
   "cell_type": "code",
   "execution_count": 107,
   "metadata": {},
   "outputs": [
    {
     "data": {
      "text/plain": [
       "False"
      ]
     },
     "execution_count": 107,
     "metadata": {},
     "output_type": "execute_result"
    }
   ],
   "source": [
    "(arr > 0).all()"
   ]
  },
  {
   "cell_type": "code",
   "execution_count": 108,
   "metadata": {},
   "outputs": [
    {
     "data": {
      "text/plain": [
       "array([-2.74233219, -2.39658149, -2.34692257, -2.23717583, -2.02341519,\n       -1.86720658, -1.78858224, -1.66967307, -1.53988863, -1.34942425,\n       -1.15945696, -1.15546908, -1.08877569, -1.06212345, -1.04847655,\n       -1.03994114, -0.90658102, -0.88160623, -0.88150343, -0.86885002,\n       -0.84346107, -0.81326997, -0.72658903, -0.64969308, -0.61173409,\n       -0.58748936, -0.58023118, -0.54151776, -0.5018768 , -0.5004582 ,\n       -0.48050347, -0.38706308, -0.38299149, -0.38039617, -0.33313215,\n       -0.32939155, -0.2688039 , -0.23570903, -0.19484005, -0.17816939,\n       -0.14475342, -0.13172458, -0.12664016, -0.06492166, -0.05257277,\n        0.01852777,  0.02521138,  0.02742347,  0.02831418,  0.0438673 ,\n        0.05666927,  0.07103935,  0.0873246 ,  0.13381068,  0.2360863 ,\n        0.27628806,  0.30508081,  0.30576008,  0.31826219,  0.32117968,\n        0.34182983,  0.3453236 ,  0.38289564,  0.39095365,  0.39147629,\n        0.39981431,  0.41939263,  0.42499768,  0.48613433,  0.48797391,\n        0.52545424,  0.58228242,  0.74220303,  0.7499873 ,  0.78929531,\n        0.81424506,  0.83215647,  0.88128911,  1.02596008,  1.0523304 ,\n        1.10820988,  1.13192988,  1.1409159 ,  1.16058226,  1.17098297,\n        1.17836858,  1.2206594 ,  1.24183718,  1.25178435,  1.29990441,\n        1.38953625,  1.39097094,  1.49892566,  1.67562263,  1.78230628,\n        1.79987644,  1.84441971,  1.91055911,  2.30638777,  2.83964406])"
      ]
     },
     "execution_count": 108,
     "metadata": {},
     "output_type": "execute_result"
    }
   ],
   "source": [
    "#numpy sort algorithm is in-place, meaning the original array will be modified\n",
    "arr.sort()\n",
    "arr"
   ]
  },
  {
   "cell_type": "code",
   "execution_count": 117,
   "metadata": {},
   "outputs": [
    {
     "data": {
      "text/plain": [
       "array([[-2.74233219, -2.39658149, -2.34692257, -2.23717583, -2.02341519],\n       [-1.86720658, -1.78858224, -1.66967307, -1.53988863, -1.34942425],\n       [-1.15945696, -1.15546908, -1.08877569, -1.06212345, -1.04847655],\n       [-1.03994114, -0.90658102, -0.88160623, -0.88150343, -0.86885002],\n       [-0.84346107, -0.81326997, -0.72658903, -0.64969308, -0.61173409],\n       [-0.58748936, -0.58023118, -0.54151776, -0.5018768 , -0.5004582 ],\n       [-0.48050347, -0.38706308, -0.38299149, -0.38039617, -0.33313215],\n       [-0.32939155, -0.2688039 , -0.23570903, -0.19484005, -0.17816939],\n       [-0.14475342, -0.13172458, -0.12664016, -0.06492166, -0.05257277],\n       [ 0.01852777,  0.02521138,  0.02742347,  0.02831418,  0.0438673 ],\n       [ 0.05666927,  0.07103935,  0.0873246 ,  0.13381068,  0.2360863 ],\n       [ 0.27628806,  0.30508081,  0.30576008,  0.31826219,  0.32117968],\n       [ 0.34182983,  0.3453236 ,  0.38289564,  0.39095365,  0.39147629],\n       [ 0.39981431,  0.41939263,  0.42499768,  0.48613433,  0.48797391],\n       [ 0.52545424,  0.58228242,  0.74220303,  0.7499873 ,  0.78929531],\n       [ 0.81424506,  0.83215647,  0.88128911,  1.02596008,  1.0523304 ],\n       [ 1.10820988,  1.13192988,  1.1409159 ,  1.16058226,  1.17098297],\n       [ 1.17836858,  1.2206594 ,  1.24183718,  1.25178435,  1.29990441],\n       [ 1.38953625,  1.39097094,  1.49892566,  1.67562263,  1.78230628],\n       [ 1.79987644,  1.84441971,  1.91055911,  2.30638777,  2.83964406]])"
      ]
     },
     "execution_count": 117,
     "metadata": {},
     "output_type": "execute_result"
    }
   ],
   "source": [
    "#you can also specify the axis you want to sort\n",
    "#also, notice that reshape will specify number of columns before rows\n",
    "arr = arr.reshape(20, 5)\n",
    "arr.sort(1)\n",
    "arr"
   ]
  },
  {
   "cell_type": "code",
   "execution_count": 120,
   "metadata": {},
   "outputs": [
    {
     "data": {
      "text/plain": [
       "-1.8672065776558284"
      ]
     },
     "execution_count": 120,
     "metadata": {},
     "output_type": "execute_result"
    }
   ],
   "source": [
    "#select quantile of an array by first sorting the array\n",
    "arr = arr.reshape(100)\n",
    "arr[int(0.05 * len(arr))] #5% quantile\n"
   ]
  },
  {
   "cell_type": "code",
   "execution_count": 123,
   "metadata": {},
   "outputs": [
    {
     "data": {
      "text/plain": [
       "array(['Bob', 'Ellie', 'Joe', 'Joel'],\n      dtype='<U5')"
      ]
     },
     "execution_count": 123,
     "metadata": {},
     "output_type": "execute_result"
    }
   ],
   "source": [
    "#Numpy has a set of operation for one-dimensional ndarrays.\n",
    "arr = np.array([\"Bob\", \"Ellie\", \"Joel\", \"Bob\", \"Joe\", \"Joel\"])\n",
    "np.unique(arr)"
   ]
  },
  {
   "cell_type": "code",
   "execution_count": 124,
   "metadata": {},
   "outputs": [
    {
     "data": {
      "text/plain": [
       "array([ True,  True, False, False], dtype=bool)"
      ]
     },
     "execution_count": 124,
     "metadata": {},
     "output_type": "execute_result"
    }
   ],
   "source": [
    "#in1d(x, y) method compute a boolean array indicating whether an element of x is contained in y\n",
    "arr1 = np.array([1, 4, 5, 2])\n",
    "arr2 = np.array([1, 52, 23, 4, 10, 20])\n",
    "np.in1d(arr1, arr2)"
   ]
  },
  {
   "cell_type": "code",
   "execution_count": 127,
   "metadata": {},
   "outputs": [
    {
     "data": {
      "text/plain": [
       "array([[ 25,  34,  37,  30],\n       [ 74, 130,  89, 108]])"
      ]
     },
     "execution_count": 127,
     "metadata": {},
     "output_type": "execute_result"
    }
   ],
   "source": [
    "#4.5 Linear Algebra\n",
    "#x.dot(y) to calculate x.y (dot product), it is also equivalent to np.dot(x, y)\n",
    "x = np.array([[1, 2, 3], [4, 9, 6]])\n",
    "y = np.array([[2, 1, 5, 9], [4, 12, 1,6], [5, 3, 10, 3]])\n",
    "x.dot(y)"
   ]
  },
  {
   "cell_type": "code",
   "execution_count": 128,
   "metadata": {},
   "outputs": [
    {
     "data": {
      "text/plain": [
       "array([  6.,  19.])"
      ]
     },
     "execution_count": 128,
     "metadata": {},
     "output_type": "execute_result"
    }
   ],
   "source": [
    "#the @ symbol also works as an infix operator to perform matrix multiplication\n",
    "x @ np.ones(3)"
   ]
  },
  {
   "cell_type": "code",
   "execution_count": 130,
   "metadata": {},
   "outputs": [
    {
     "data": {
      "text/plain": [
       "array([[-0.84343294, -1.4095342 ,  0.88953167,  0.62739246],\n       [-0.96944668, -0.16624471,  1.02202889,  0.18730987],\n       [-1.16841696, -1.64488436,  0.43532711, -0.06012125],\n       [ 0.61570204,  0.34987347, -0.49756572, -1.07726218]])"
      ]
     },
     "execution_count": 130,
     "metadata": {},
     "output_type": "execute_result"
    }
   ],
   "source": [
    "#Pseudorandom number generator\n",
    "#This is how you get a 4x4 array of samples from standard normal distribution using normal:\n",
    "sample = np.random.normal(size = (4,4))\n",
    "sample"
   ]
  },
  {
   "cell_type": "code",
   "execution_count": 131,
   "metadata": {},
   "outputs": [],
   "source": [
    "#We can change Numpy's random number generation seed \n",
    "np.random.seed(1323)"
   ]
  },
  {
   "cell_type": "code",
   "execution_count": 132,
   "metadata": {},
   "outputs": [
    {
     "data": {
      "text/plain": [
       "array([ 0.47143516, -1.19097569,  1.43270697, -0.3126519 , -0.72058873,\n        0.88716294,  0.85958841, -0.6365235 ,  0.01569637, -2.24268495])"
      ]
     },
     "execution_count": 132,
     "metadata": {},
     "output_type": "execute_result"
    }
   ],
   "source": [
    "#The data generation functions in numpy.random use a global random seed. To avoid global random seed, you can use numpy.random.RandomState to create a generator isolated from others\n",
    "rng = np.random.RandomState(1234)\n",
    "rng. randn(10)"
   ]
  },
  {
   "cell_type": "code",
   "execution_count": 133,
   "metadata": {},
   "outputs": [],
   "source": [
    "#perform random step with Numpy\n",
    "nsteps = 1000\n",
    "draws = np.random.randint(0, 2, size = nsteps)\n",
    "steps = np.where(draws > 0, 1, -1)\n",
    "walk = steps.cumsum()"
   ]
  },
  {
   "cell_type": "code",
   "execution_count": 134,
   "metadata": {},
   "outputs": [
    {
     "data": {
      "text/plain": [
       "-38"
      ]
     },
     "execution_count": 134,
     "metadata": {},
     "output_type": "execute_result"
    }
   ],
   "source": [
    "walk.min()"
   ]
  },
  {
   "cell_type": "code",
   "execution_count": 135,
   "metadata": {},
   "outputs": [
    {
     "data": {
      "text/plain": [
       "38"
      ]
     },
     "execution_count": 135,
     "metadata": {},
     "output_type": "execute_result"
    }
   ],
   "source": [
    "walk.max()"
   ]
  },
  {
   "cell_type": "code",
   "execution_count": 138,
   "metadata": {},
   "outputs": [
    {
     "data": {
      "text/plain": [
       "90"
      ]
     },
     "execution_count": 138,
     "metadata": {},
     "output_type": "execute_result"
    }
   ],
   "source": [
    "#To determine the \"first crossing time\", meaning the step which the random walk reachesa particular value, \n",
    "# we use argmax to return the first index of the maximum value in the boolean array (In boolean array, True is max value)\n",
    "(walk > 10).argmax()"
   ]
  },
  {
   "cell_type": "code",
   "execution_count": 142,
   "metadata": {},
   "outputs": [
    {
     "data": {
      "text/plain": [
       "array([[ -1,  -2,  -1, ...,  30,  29,  28],\n       [ -1,   0,   1, ...,  30,  29,  28],\n       [ -1,  -2,  -1, ...,   8,   9,   8],\n       ..., \n       [ -1,  -2,  -3, ...,  12,  11,  10],\n       [ -1,   0,  -1, ..., -12, -13, -14],\n       [  1,   2,   3, ..., -28, -27, -26]], dtype=int32)"
      ]
     },
     "execution_count": 142,
     "metadata": {},
     "output_type": "execute_result"
    }
   ],
   "source": [
    "#we can also perform multiple random walks at the same time\n",
    "np.random.seed(124)\n",
    "nwalks = 5000\n",
    "nsteps = 1000\n",
    "draws = np.random.randint(0, 2, size=(nwalks, nsteps))\n",
    "steps = np.where(draws>0, 1, -1)\n",
    "walks = steps.cumsum(1)\n",
    "walks"
   ]
  },
  {
   "cell_type": "code",
   "execution_count": 145,
   "metadata": {},
   "outputs": [
    {
     "data": {
      "text/plain": [
       "113"
      ]
     },
     "execution_count": 145,
     "metadata": {},
     "output_type": "execute_result"
    }
   ],
   "source": [
    "walks.max()"
   ]
  },
  {
   "cell_type": "code",
   "execution_count": 144,
   "metadata": {},
   "outputs": [
    {
     "data": {
      "text/plain": [
       "-144"
      ]
     },
     "execution_count": 144,
     "metadata": {},
     "output_type": "execute_result"
    }
   ],
   "source": [
    "walks.min()"
   ]
  },
  {
   "cell_type": "code",
   "execution_count": 146,
   "metadata": {},
   "outputs": [
    {
     "data": {
      "text/plain": [
       "array([False, False, False, ..., False, False, False], dtype=bool)"
      ]
     },
     "execution_count": 146,
     "metadata": {},
     "output_type": "execute_result"
    }
   ],
   "source": [
    "#we can do some basic statistic to compare each walk\n",
    "#In this example, we check how many walks manages to walk more than 50 steps in either directions\n",
    "hits50 = (np.abs(walks>=50)).any(1)\n",
    "hits50"
   ]
  },
  {
   "cell_type": "code",
   "execution_count": 147,
   "metadata": {},
   "outputs": [
    {
     "data": {
      "text/plain": [
       "540"
      ]
     },
     "execution_count": 147,
     "metadata": {},
     "output_type": "execute_result"
    }
   ],
   "source": [
    "np.sum(hits50)"
   ]
  },
  {
   "cell_type": "code",
   "execution_count": 149,
   "metadata": {},
   "outputs": [
    {
     "data": {
      "text/plain": [
       "73.533199999999994"
      ]
     },
     "execution_count": 149,
     "metadata": {},
     "output_type": "execute_result"
    }
   ],
   "source": [
    "#We can also calculate average first crossing time among the rows that hits 50\n",
    "crossing_times = (np.abs(walks>=50)).argmax(1)\n",
    "np.mean(crossing_times)"
   ]
  },
  {
   "cell_type": "code",
   "execution_count": null,
   "metadata": {},
   "outputs": [],
   "source": []
  }
 ],
 "metadata": {
  "kernelspec": {
   "display_name": "Python 2",
   "language": "python",
   "name": "python2"
  },
  "language_info": {
   "codemirror_mode": {
    "name": "ipython",
    "version": 2
   },
   "file_extension": ".py",
   "mimetype": "text/x-python",
   "name": "python",
   "nbconvert_exporter": "python",
   "pygments_lexer": "ipython2",
   "version": "2.7.6"
  }
 },
 "nbformat": 4,
 "nbformat_minor": 0
}
